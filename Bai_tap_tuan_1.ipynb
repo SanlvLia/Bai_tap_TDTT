{
 "cells": [
  {
   "cell_type": "markdown",
   "id": "08845a26",
   "metadata": {},
   "source": [
    "Bài 1"
   ]
  },
  {
   "cell_type": "code",
   "execution_count": null,
   "id": "95349562",
   "metadata": {},
   "outputs": [],
   "source": [
    "print(\"Hello World!\")"
   ]
  },
  {
   "cell_type": "markdown",
   "id": "9668152a",
   "metadata": {},
   "source": [
    "Bài 2"
   ]
  },
  {
   "cell_type": "code",
   "execution_count": null,
   "id": "22437992",
   "metadata": {},
   "outputs": [],
   "source": [
    "n=input()\n",
    "print(\"Chào \"+n)"
   ]
  },
  {
   "cell_type": "markdown",
   "id": "580ad9d9",
   "metadata": {},
   "source": [
    "Bài 3"
   ]
  },
  {
   "cell_type": "code",
   "execution_count": null,
   "id": "0fc26bda",
   "metadata": {},
   "outputs": [],
   "source": [
    "a,b=map(int,input().split())\n",
    "print(a+b)\n",
    "print(a-b)\n",
    "print(a*b)\n",
    "print(a//b)\n",
    "print(a%b)\n",
    "print(round(a/b,2))"
   ]
  },
  {
   "cell_type": "markdown",
   "id": "4aa2d8f8",
   "metadata": {},
   "source": [
    "Bài 4"
   ]
  },
  {
   "cell_type": "code",
   "execution_count": null,
   "id": "c416a839",
   "metadata": {},
   "outputs": [],
   "source": [
    "a1,b1,c1,a2,b2,a3=map(int,input().split())\n",
    "res=((a1+b1+c1)+2*(a2+b2)+3*a3)/10\n",
    "print(round(res,1))"
   ]
  },
  {
   "cell_type": "markdown",
   "id": "f1dcab4a",
   "metadata": {},
   "source": [
    "Bài 5"
   ]
  },
  {
   "cell_type": "code",
   "execution_count": null,
   "id": "18ed0bf6",
   "metadata": {},
   "outputs": [],
   "source": [
    "a,b=map(int,input().split())\n",
    "print(a**b)\n"
   ]
  },
  {
   "cell_type": "markdown",
   "id": "9ef2c9c0",
   "metadata": {},
   "source": [
    "Bài 6"
   ]
  },
  {
   "cell_type": "code",
   "execution_count": null,
   "id": "2c544fe3",
   "metadata": {},
   "outputs": [],
   "source": [
    "a=input()\n",
    "x=ord(a)\n",
    "print(x)\n",
    "x-=32\n",
    "print(chr(x))"
   ]
  },
  {
   "cell_type": "markdown",
   "id": "1282b9c5",
   "metadata": {},
   "source": [
    "Bài 7"
   ]
  },
  {
   "cell_type": "code",
   "execution_count": null,
   "id": "a3e9d4a9",
   "metadata": {},
   "outputs": [],
   "source": [
    "a=((13**2)*3)+5\n",
    "b=13**2*3+5\n",
    "print(a)\n",
    "print(b)\n"
   ]
  },
  {
   "cell_type": "markdown",
   "id": "b9122ffc",
   "metadata": {},
   "source": [
    "Bài 8"
   ]
  },
  {
   "cell_type": "code",
   "execution_count": null,
   "id": "3513db05",
   "metadata": {},
   "outputs": [],
   "source": [
    "c=int(input())\n",
    "f=9/5*c+32\n",
    "print(round(f,2))\n"
   ]
  },
  {
   "cell_type": "markdown",
   "id": "35df22bf",
   "metadata": {},
   "source": [
    "Bài 9"
   ]
  },
  {
   "cell_type": "code",
   "execution_count": null,
   "id": "aa3f70c8",
   "metadata": {},
   "outputs": [],
   "source": [
    "x=int(input())\n",
    "res=(x+10)+x*0.3+x*0.1\n",
    "print(round(res,2))"
   ]
  },
  {
   "cell_type": "markdown",
   "id": "93644d47",
   "metadata": {},
   "source": [
    "Bài 10"
   ]
  },
  {
   "cell_type": "code",
   "execution_count": null,
   "id": "d02f58d3",
   "metadata": {},
   "outputs": [],
   "source": [
    "a,b,c=input().split()\n",
    "print(\"Hi \"+c+\", \"+b+\" and \"+a)"
   ]
  },
  {
   "cell_type": "markdown",
   "id": "0d138757",
   "metadata": {},
   "source": [
    "Bài 11"
   ]
  },
  {
   "cell_type": "code",
   "execution_count": null,
   "id": "3b5e6769",
   "metadata": {},
   "outputs": [],
   "source": [
    "h,m=map(int,input().split())\n",
    "print(h*3600+m*30)"
   ]
  },
  {
   "cell_type": "markdown",
   "id": "2acbfd2d",
   "metadata": {},
   "source": [
    "Bài 12"
   ]
  },
  {
   "cell_type": "code",
   "execution_count": null,
   "id": "8491002b",
   "metadata": {},
   "outputs": [],
   "source": [
    "n=int(input())\n",
    "print(6*(n**2))"
   ]
  },
  {
   "cell_type": "markdown",
   "id": "fae7ac42",
   "metadata": {},
   "source": [
    "Bài 13"
   ]
  },
  {
   "cell_type": "code",
   "execution_count": null,
   "id": "0485bc39",
   "metadata": {},
   "outputs": [],
   "source": [
    "a,b=map(int,input().split())\n",
    "x=a*b\n",
    "print(x%10)"
   ]
  },
  {
   "cell_type": "markdown",
   "id": "d9bc3330",
   "metadata": {},
   "source": [
    "Bài 14"
   ]
  },
  {
   "cell_type": "code",
   "execution_count": null,
   "id": "6472923e",
   "metadata": {},
   "outputs": [],
   "source": [
    "a,b=map(int,input().split())\n",
    "a,b=b,a\n",
    "print(a)\n",
    "print(b)"
   ]
  },
  {
   "cell_type": "markdown",
   "id": "9e25dd8a",
   "metadata": {},
   "source": [
    "Bài 15"
   ]
  },
  {
   "cell_type": "code",
   "execution_count": null,
   "id": "2a6e679f",
   "metadata": {},
   "outputs": [],
   "source": [
    "n=int(input())\n",
    "res=6*n*(n-1)+1\n",
    "print(res)"
   ]
  },
  {
   "cell_type": "markdown",
   "id": "1c5480eb",
   "metadata": {},
   "source": [
    "Bài 16"
   ]
  },
  {
   "cell_type": "code",
   "execution_count": null,
   "id": "0d31abe1",
   "metadata": {},
   "outputs": [],
   "source": [
    "print(\"Spring\")\n",
    "print(\"Summer\")\n",
    "print(\"Autumn\")\n",
    "print(\"Winter\")\n"
   ]
  },
  {
   "cell_type": "markdown",
   "id": "ff5a1446",
   "metadata": {},
   "source": [
    "Bài 17"
   ]
  },
  {
   "cell_type": "code",
   "execution_count": null,
   "id": "05c7a15a",
   "metadata": {},
   "outputs": [],
   "source": [
    "n=int(input())\n",
    "x=int((2+(n-1))*3/2)\n",
    "for i in range(1,x,2):\n",
    "    print(\"*\"*i)\n",
    "\n"
   ]
  },
  {
   "cell_type": "markdown",
   "id": "16237033",
   "metadata": {},
   "source": [
    "Bài 18"
   ]
  },
  {
   "cell_type": "code",
   "execution_count": null,
   "id": "3a0e0c37",
   "metadata": {},
   "outputs": [],
   "source": [
    "print(\"### # #   ### ###\")\n",
    "print(\" #  #  #   #   #\")\n",
    "print(\" #  #   #  #   #\")\n",
    "print(\" #  #  #   #   #\")\n",
    "print(\" #  # #    #   #\")"
   ]
  },
  {
   "cell_type": "markdown",
   "id": "8ea1e2d9",
   "metadata": {},
   "source": [
    "Bài 19"
   ]
  },
  {
   "cell_type": "code",
   "execution_count": null,
   "id": "69e624ef",
   "metadata": {},
   "outputs": [],
   "source": [
    "a=[\"Monday\",\"Tuesday\",\"Wednesday\",\"Thursday\",\"Friday\",\"Saturday\",\"Sunday\"]\n",
    "for i in a:\n",
    "    print(i)\n"
   ]
  },
  {
   "cell_type": "markdown",
   "id": "d63344f3",
   "metadata": {},
   "source": [
    "Bài 20"
   ]
  },
  {
   "cell_type": "code",
   "execution_count": null,
   "id": "71843717",
   "metadata": {},
   "outputs": [],
   "source": [
    "a=[\"January\",\"February\",\"March\",\"Apirl\",\"May\",\"June\",\"July\",\"August\",\"September\",\"October\",\"November\",\"December\"]\n",
    "for i in a:\n",
    "    print(i)"
   ]
  },
  {
   "cell_type": "markdown",
   "id": "cca7cb7c",
   "metadata": {},
   "source": [
    "Bài 21"
   ]
  },
  {
   "cell_type": "code",
   "execution_count": null,
   "id": "a47002d2",
   "metadata": {},
   "outputs": [],
   "source": [
    "for i in range(10):\n",
    "    print(\"Hello, world\")"
   ]
  }
 ],
 "metadata": {
  "kernelspec": {
   "display_name": "Python 3",
   "language": "python",
   "name": "python3"
  },
  "language_info": {
   "codemirror_mode": {
    "name": "ipython",
    "version": 3
   },
   "file_extension": ".py",
   "mimetype": "text/x-python",
   "name": "python",
   "nbconvert_exporter": "python",
   "pygments_lexer": "ipython3",
   "version": "3.13.7"
  }
 },
 "nbformat": 4,
 "nbformat_minor": 5
}
