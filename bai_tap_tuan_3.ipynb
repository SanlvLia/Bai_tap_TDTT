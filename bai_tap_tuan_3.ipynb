{
 "cells": [
  {
   "cell_type": "markdown",
   "id": "cdfba17d",
   "metadata": {},
   "source": [
    "Bài 1"
   ]
  },
  {
   "cell_type": "code",
   "execution_count": null,
   "id": "ab8b76c6",
   "metadata": {},
   "outputs": [],
   "source": [
    "a=input()\n",
    "for i in range(len(a),0,-1):\n",
    "    print(i,end=\"\")"
   ]
  },
  {
   "cell_type": "markdown",
   "id": "bec0b598",
   "metadata": {},
   "source": [
    "Bài 2"
   ]
  },
  {
   "cell_type": "code",
   "execution_count": null,
   "id": "9e92bbcf",
   "metadata": {},
   "outputs": [],
   "source": [
    "a,b=map(int,input().split())\n",
    "a=a^b\n",
    "b=a^b\n",
    "a=a^b\n",
    "print(a,b,sep=\" \")"
   ]
  },
  {
   "cell_type": "markdown",
   "id": "22a819ce",
   "metadata": {},
   "source": [
    "Bài 3"
   ]
  },
  {
   "cell_type": "code",
   "execution_count": null,
   "id": "8ec52c79",
   "metadata": {},
   "outputs": [],
   "source": [
    "n=int(input())\n",
    "print(n&(n-1)==0)"
   ]
  },
  {
   "cell_type": "markdown",
   "id": "938f7f44",
   "metadata": {},
   "source": [
    "Bài 4"
   ]
  },
  {
   "cell_type": "code",
   "execution_count": null,
   "id": "b2258e7b",
   "metadata": {},
   "outputs": [],
   "source": [
    "m,n=map(int,input().split())\n",
    "print(m//n)\n"
   ]
  },
  {
   "cell_type": "markdown",
   "id": "2c7eaa79",
   "metadata": {},
   "source": [
    "Bài 5"
   ]
  },
  {
   "cell_type": "code",
   "execution_count": null,
   "id": "78aa7acf",
   "metadata": {},
   "outputs": [],
   "source": [
    "import math \n",
    "m,n=map(int,input().split())\n",
    "print(math.ceil(m/n))\n"
   ]
  },
  {
   "cell_type": "markdown",
   "id": "f662b47e",
   "metadata": {},
   "source": [
    "Bài 6"
   ]
  },
  {
   "cell_type": "code",
   "execution_count": null,
   "id": "e267029a",
   "metadata": {},
   "outputs": [],
   "source": [
    "x=int(input())\n",
    "if x%2: print(\"Odd\")\n",
    "else : print(\"Even\")"
   ]
  },
  {
   "cell_type": "markdown",
   "id": "f098ed76",
   "metadata": {},
   "source": [
    "Bài 7"
   ]
  },
  {
   "cell_type": "code",
   "execution_count": null,
   "id": "a07ceb72",
   "metadata": {},
   "outputs": [],
   "source": [
    "a=int(input())\n",
    "b=int(input())\n",
    "if (a<0)&(b<0): print(\"Yes\")\n",
    "else: print(\"No\")\n",
    "\n"
   ]
  },
  {
   "cell_type": "markdown",
   "id": "f54d2210",
   "metadata": {},
   "source": [
    "Bài 8"
   ]
  },
  {
   "cell_type": "code",
   "execution_count": null,
   "id": "f11030fc",
   "metadata": {},
   "outputs": [],
   "source": [
    "a=input()\n",
    "b=input()\n",
    "if(a>b): print(\"True\")\n",
    "else: print(\"False\")"
   ]
  },
  {
   "cell_type": "markdown",
   "id": "984d7798",
   "metadata": {},
   "source": [
    "Bài 9"
   ]
  },
  {
   "cell_type": "code",
   "execution_count": null,
   "id": "d67e9073",
   "metadata": {},
   "outputs": [],
   "source": [
    "a=int(input())\n",
    "b=int(input())\n",
    "c=int(input())\n",
    "if((a+b>c)&(a+c>b)&(b+c>a)): print(\"Yes\")\n",
    "else: print(\"No\")\n"
   ]
  },
  {
   "cell_type": "markdown",
   "id": "cbb1293b",
   "metadata": {},
   "source": [
    "Bài 10"
   ]
  },
  {
   "cell_type": "code",
   "execution_count": null,
   "id": "e06ee1fa",
   "metadata": {},
   "outputs": [],
   "source": [
    "a=int(input())\n",
    "b=int(input())\n",
    "c=int(input())\n",
    "d=int(input())\n",
    "print(max(a,b,c,d))"
   ]
  },
  {
   "cell_type": "markdown",
   "id": "3496353a",
   "metadata": {},
   "source": [
    "Bài 11"
   ]
  },
  {
   "cell_type": "code",
   "execution_count": null,
   "id": "da352eb1",
   "metadata": {},
   "outputs": [],
   "source": [
    "a,b,c=map(int,input().split())\n",
    "if((a+b<c)|(a+c<b)|(b+c<a)): print(\"Không phải tam giác\")\n",
    "else:\n",
    "    if(a==b==c):print(\"Tam giác đều\")\n",
    "    elif((a==b)|(b==c)|(a==c)): print(\"Tam giác cân\")\n",
    "    else:print(\"Tam giác thường\")\n"
   ]
  },
  {
   "cell_type": "markdown",
   "id": "13c74395",
   "metadata": {},
   "source": [
    "BÀi 12"
   ]
  },
  {
   "cell_type": "code",
   "execution_count": null,
   "id": "0d73d0d3",
   "metadata": {},
   "outputs": [],
   "source": [
    "a=int(input())\n",
    "if(a%400==0): print(\"Yes\")\n",
    "else: print(\"No\")"
   ]
  },
  {
   "cell_type": "markdown",
   "id": "b63f9bdd",
   "metadata": {},
   "source": [
    "Bài 13"
   ]
  },
  {
   "cell_type": "code",
   "execution_count": null,
   "id": "f7b5835e",
   "metadata": {},
   "outputs": [],
   "source": [
    "a=[1500,2000]\n",
    "n=int(input())\n",
    "id=0\n",
    "res=0\n",
    "while(n>=50&id<2):\n",
    "    n-=50\n",
    "    res+=a[id]*50\n",
    "    id+=1\n",
    "res+=n*3000\n",
    "print(res)"
   ]
  },
  {
   "cell_type": "markdown",
   "id": "022d9d31",
   "metadata": {},
   "source": [
    "Bài 14"
   ]
  },
  {
   "cell_type": "code",
   "execution_count": null,
   "id": "30fad112",
   "metadata": {},
   "outputs": [],
   "source": [
    "a=float(input())\n",
    "b=float(input())\n",
    "if(a==0.0)&(b==0.0): print(\"Vô số nghiệm\")\n",
    "elif(a==0.0)&(b!=0.0): print(\"Vô nghiệm\")\n",
    "else:\n",
    "    res=float(-b/a)\n",
    "    print(round(res,2))"
   ]
  },
  {
   "cell_type": "markdown",
   "id": "0c9c825f",
   "metadata": {},
   "source": [
    "Bài 15"
   ]
  },
  {
   "cell_type": "code",
   "execution_count": null,
   "id": "6e12baf5",
   "metadata": {},
   "outputs": [],
   "source": [
    "a=[5.0,6.5,8.0,11.0]\n",
    "b=[\"Yếu\",\"Trung bình\",\"Khá\",\"Giỏi\"]\n",
    "n=float(input())\n",
    "for i in range(4):\n",
    "    if(n<a[i]):\n",
    "        print(b[i])\n",
    "        break"
   ]
  },
  {
   "cell_type": "markdown",
   "id": "5215c3f5",
   "metadata": {},
   "source": [
    "Bài 16"
   ]
  },
  {
   "cell_type": "code",
   "execution_count": null,
   "id": "e7f4d95b",
   "metadata": {},
   "outputs": [],
   "source": [
    "n=float(input())\n",
    "print(int((n+1.0)//1))\n",
    "print(int(n//1))\n",
    "print(int(n//1))"
   ]
  }
 ],
 "metadata": {
  "kernelspec": {
   "display_name": "Python 3",
   "language": "python",
   "name": "python3"
  },
  "language_info": {
   "codemirror_mode": {
    "name": "ipython",
    "version": 3
   },
   "file_extension": ".py",
   "mimetype": "text/x-python",
   "name": "python",
   "nbconvert_exporter": "python",
   "pygments_lexer": "ipython3",
   "version": "3.13.7"
  }
 },
 "nbformat": 4,
 "nbformat_minor": 5
}
