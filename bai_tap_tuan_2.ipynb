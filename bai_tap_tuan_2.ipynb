{
 "cells": [
  {
   "cell_type": "markdown",
   "id": "ab307f5a",
   "metadata": {},
   "source": [
    "Bài 1"
   ]
  },
  {
   "cell_type": "code",
   "execution_count": null,
   "id": "3eadc8b6",
   "metadata": {},
   "outputs": [],
   "source": [
    "n=int(input())\n",
    "print(2*n)"
   ]
  },
  {
   "cell_type": "markdown",
   "id": "aa478d16",
   "metadata": {},
   "source": [
    "Bài 2"
   ]
  },
  {
   "cell_type": "code",
   "execution_count": null,
   "id": "3f8ca72d",
   "metadata": {},
   "outputs": [],
   "source": [
    "a,b=map(float,input().split())\n",
    "pi=3.14\n",
    "res=a*b-pi*(a/2.0)**2\n",
    "print(round(res,2))"
   ]
  },
  {
   "cell_type": "markdown",
   "id": "e214cd2d",
   "metadata": {},
   "source": [
    "Bài 3"
   ]
  },
  {
   "cell_type": "code",
   "execution_count": null,
   "id": "b22fbdc8",
   "metadata": {},
   "outputs": [],
   "source": [
    "c=input()\n",
    "if(c>=\"a\")&(c<=\"z\"):\n",
    "    print(c.upper())\n",
    "else:\n",
    "    print(c.lower())"
   ]
  },
  {
   "cell_type": "markdown",
   "id": "2939dfec",
   "metadata": {},
   "source": [
    "Bài 4"
   ]
  },
  {
   "cell_type": "code",
   "execution_count": null,
   "id": "b7e686a9",
   "metadata": {},
   "outputs": [],
   "source": [
    "c=input()\n",
    "if((c>=\"a\")&(c<=\"z\"))|((c>=\"A\")&(c<=\"Z\")):\n",
    "    print(\"{\"+c+\"}\"+\" là kí tự alphabet\")\n",
    "else:\n",
    "    print(\"{\"+c+\"}\"+\" không là kí tự alphabet\")"
   ]
  },
  {
   "cell_type": "markdown",
   "id": "40b57a21",
   "metadata": {},
   "source": [
    "Bài 5"
   ]
  },
  {
   "cell_type": "code",
   "execution_count": null,
   "id": "1c53629f",
   "metadata": {},
   "outputs": [],
   "source": [
    "x=input()\n",
    "if(x==\"A\"):\n",
    "    print(x)\n",
    "else:\n",
    "    n=ord(x)\n",
    "    n+=31\n",
    "    print(chr(n))\n"
   ]
  },
  {
   "cell_type": "markdown",
   "id": "e0bc6729",
   "metadata": {},
   "source": [
    "Bài 6"
   ]
  },
  {
   "cell_type": "code",
   "execution_count": null,
   "id": "fefbe7ec",
   "metadata": {},
   "outputs": [],
   "source": [
    "import math\n",
    "a,b,c=map(float,input().split())\n",
    "if((a+b>c)&(a+c>b)&(b+c>a)):\n",
    "    p=float(a+b+c)/2\n",
    "    res=math.sqrt(p*(p-a)*(p-b)*(p-c))\n",
    "    print(round(res,1))\n",
    "else:\n",
    "    print(\"Khong phai 3 canh cua tam giac\")"
   ]
  },
  {
   "cell_type": "markdown",
   "id": "a649a91c",
   "metadata": {},
   "source": [
    "Bài 7"
   ]
  },
  {
   "cell_type": "code",
   "execution_count": null,
   "id": "a7fc2bad",
   "metadata": {},
   "outputs": [],
   "source": [
    "n=input()\n",
    "print(n[4])\n",
    "print(n[8])\n",
    "\n"
   ]
  },
  {
   "cell_type": "markdown",
   "id": "21df073a",
   "metadata": {},
   "source": [
    "Bài 8"
   ]
  },
  {
   "cell_type": "code",
   "execution_count": null,
   "id": "5ca4d56d",
   "metadata": {},
   "outputs": [],
   "source": [
    "a=[1984,2050,2380,2998,3350,3460]\n",
    "b=[50,50,100,100,100,100]\n",
    "print(\"Ten chu ho:\",end=\" \")\n",
    "ten=input()\n",
    "print(\"Chi so thang truoc:\",end=\" \")\n",
    "cst=int(input())\n",
    "print(\"Chi so thang nay:\",end=\" \")\n",
    "csn=int(input())\n",
    "cs=csn-cst\n",
    "res=0\n",
    "id=0\n",
    "while(cs>=b[id]):\n",
    "    cs-=b[id]\n",
    "    res+=b[id]*a[id]\n",
    "    id+=1\n",
    "    if(id>5): \n",
    "        id-=1\n",
    "        break\n",
    "if(cs>0): res+=cs*a[id]\n",
    "print(round(res*1.08))\n",
    "\n",
    "\n"
   ]
  }
 ],
 "metadata": {
  "kernelspec": {
   "display_name": "Python 3",
   "language": "python",
   "name": "python3"
  },
  "language_info": {
   "codemirror_mode": {
    "name": "ipython",
    "version": 3
   },
   "file_extension": ".py",
   "mimetype": "text/x-python",
   "name": "python",
   "nbconvert_exporter": "python",
   "pygments_lexer": "ipython3",
   "version": "3.13.7"
  }
 },
 "nbformat": 4,
 "nbformat_minor": 5
}
